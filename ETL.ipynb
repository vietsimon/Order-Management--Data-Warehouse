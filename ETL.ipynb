{
 "cells": [
  {
   "cell_type": "code",
   "execution_count": 1,
   "id": "b1271e8d-5d08-405b-842a-2501a275c11c",
   "metadata": {},
   "outputs": [],
   "source": [
    "import pyspark\n",
    "from pyspark.sql import SparkSession\n",
    "from pyspark.sql.functions import desc, explode, sequence, to_date,col,lit,concat, unix_timestamp, from_unixtime, date_format,year,month,dayofmonth,sum,max\n",
    "\n",
    "from pyspark.conf import SparkConf"
   ]
  },
  {
   "cell_type": "code",
   "execution_count": 2,
   "id": "8097096a-a773-4cca-8c17-74504391ba70",
   "metadata": {},
   "outputs": [],
   "source": [
    "import warnings\n",
    "warnings.simplefilter('ignore')\n"
   ]
  },
  {
   "cell_type": "code",
   "execution_count": 3,
   "id": "de2ab676-51fb-45f3-9d9b-313b32ed9b50",
   "metadata": {},
   "outputs": [
    {
     "name": "stderr",
     "output_type": "stream",
     "text": [
      "Warning: Ignoring non-Spark config property: hive.metastore.uris\n",
      "24/02/20 16:25:17 WARN NativeCodeLoader: Unable to load native-hadoop library for your platform... using builtin-java classes where applicable\n",
      "Setting default log level to \"WARN\".\n",
      "To adjust logging level use sc.setLogLevel(newLevel). For SparkR, use setLogLevel(newLevel).\n"
     ]
    }
   ],
   "source": [
    "spark=SparkSession\\\n",
    ".builder\\\n",
    ".master(\"local[1]\")\\\n",
    ".appName(\"Spark API\")\\\n",
    ".config(\"spark.jars\", \"/home/kafka2/documents/orderManagement/postgresql-42.6.0.jar\") \\\n",
    ".config(\"hive.metastore.uris\", \"thrift://192.168.1.12:9083\")\\\n",
    ".config(\"spark.sql.warehouse.dir\",\"hdfs://192.168.1.5:9000/user/hive/warehouse\")\\\n",
    ".config(\"spark.sql.sources.partitionOverwriteMode\", \"dynamic\")\\\n",
    ".enableHiveSupport()\\\n",
    ".getOrCreate()\n",
    "\n"
   ]
  },
  {
   "cell_type": "code",
   "execution_count": 4,
   "id": "20711881-f4dc-4723-b035-89acb237a4ce",
   "metadata": {},
   "outputs": [
    {
     "data": {
      "text/html": [
       "\n",
       "            <div>\n",
       "                <p><b>SparkSession - hive</b></p>\n",
       "                \n",
       "        <div>\n",
       "            <p><b>SparkContext</b></p>\n",
       "\n",
       "            <p><a href=\"http://kafka2:4040\">Spark UI</a></p>\n",
       "\n",
       "            <dl>\n",
       "              <dt>Version</dt>\n",
       "                <dd><code>v3.4.1</code></dd>\n",
       "              <dt>Master</dt>\n",
       "                <dd><code>local[1]</code></dd>\n",
       "              <dt>AppName</dt>\n",
       "                <dd><code>Spark API</code></dd>\n",
       "            </dl>\n",
       "        </div>\n",
       "        \n",
       "            </div>\n",
       "        "
      ],
      "text/plain": [
       "<pyspark.sql.session.SparkSession at 0x7f49345e4f10>"
      ]
     },
     "execution_count": 4,
     "metadata": {},
     "output_type": "execute_result"
    }
   ],
   "source": [
    "spark"
   ]
  },
  {
   "cell_type": "markdown",
   "id": "ba4120ce-c090-479d-a738-3e8a09cccf68",
   "metadata": {},
   "source": [
    "# Extract POSTGRES to Data Lake"
   ]
  },
  {
   "cell_type": "markdown",
   "id": "d1f5b2d7-d47c-4037-8b80-fcc457b1a395",
   "metadata": {},
   "source": [
    "## Connect to POSTGRES"
   ]
  },
  {
   "cell_type": "code",
   "execution_count": null,
   "id": "c9ab6a7e-84c7-4d84-8893-c8a2f8153a5f",
   "metadata": {},
   "outputs": [],
   "source": [
    "table_names_list  = spark.read \\\n",
    "    .format(\"jdbc\") \\\n",
    "    .option(\"url\", \"jdbc:postgresql://192.168.1.6:5432/postgres\") \\\n",
    "    .option(\"dbtable\", \"information_schema.tables\") \\\n",
    "    .option(\"user\", \"postgres\") \\\n",
    "    .option(\"password\", \"Nintendo1\") \\\n",
    "    .option(\"driver\", \"org.postgresql.Driver\") \\\n",
    "    .load()\\\n",
    "    .filter(\"table_schema = 'public'\").select(\"table_name\")"
   ]
  },
  {
   "cell_type": "code",
   "execution_count": null,
   "id": "696f3264-fe93-4c75-b83b-980e7fa9d947",
   "metadata": {},
   "outputs": [],
   "source": [
    "table_names_list = [row.table_name for row in table_names_list.collect()]\n",
    "table_names_list"
   ]
  },
  {
   "cell_type": "code",
   "execution_count": null,
   "id": "1d9055b8-e8c1-4297-82ce-1bbb9d524255",
   "metadata": {},
   "outputs": [],
   "source": [
    "from datetime import date\n",
    "today = str(date.today())\n",
    "tempDate=today.split(\"-\")\n",
    "tempDate\n",
    "year=tempDate[0]\n",
    "month=tempDate[1]\n",
    "day=tempDate[2]"
   ]
  },
  {
   "cell_type": "code",
   "execution_count": null,
   "id": "a61d5eb3-1b8e-4a0d-98c8-f0305ea0e50e",
   "metadata": {},
   "outputs": [],
   "source": [
    "tableName=\"order_product_entity\"\n"
   ]
  },
  {
   "cell_type": "markdown",
   "id": "89ccd4f6-89b4-4ec3-a749-0a5f1b77fb38",
   "metadata": {},
   "source": [
    "### Extract data into data lake"
   ]
  },
  {
   "cell_type": "code",
   "execution_count": null,
   "id": "61f13c48-1418-4a7e-be16-c6ee81446898",
   "metadata": {},
   "outputs": [],
   "source": [
    "sc = spark.sparkContext\n",
    "sc.setLogLevel(\"WARN\")\n",
    "jvm = sc._jvm\n",
    "conf = sc._jsc.hadoopConfiguration()\n",
    "tableLocation = f\"hdfs://192.168.1.5:9000/user/hive/datalake/buff-vn/{tableName}\"\n",
    "uri = jvm.java.net.URI(tableLocation)\n",
    "fs = jvm.org.apache.hadoop.fs.FileSystem.get(uri, conf)\n",
    "exists=fs.exists(jvm.org.apache.hadoop.fs.Path(tableLocation))\n",
    "exists"
   ]
  },
  {
   "cell_type": "code",
   "execution_count": null,
   "id": "3dc29c30-f8a2-42dd-b0a5-09db34e262f3",
   "metadata": {},
   "outputs": [],
   "source": [
    "tableLocation=f'hdfs://192.168.1.5:9000/user/hive/datalake/buff-vn/{tableName}'"
   ]
  },
  {
   "cell_type": "code",
   "execution_count": null,
   "id": "ad68a322-a230-4e5e-851b-ce94e1832d71",
   "metadata": {},
   "outputs": [],
   "source": [
    "if exists:\n",
    "    df= spark.read.parquet(tableLocation)\n",
    "    maxCurrent=df.agg({\"id\": \"max\"}).collect()[0][0]\n",
    "    tbQuery=f'(select * from {tableName} where id > {maxCurrent}) as table1'\n",
    "else:\n",
    "    tbQuery=f'(select * from {tableName} ) as table1'"
   ]
  },
  {
   "cell_type": "code",
   "execution_count": null,
   "id": "5cfa1ad6-755a-4259-97d4-b451af806a9a",
   "metadata": {},
   "outputs": [],
   "source": [
    "tableDB = spark.read \\\n",
    "    .format(\"jdbc\") \\\n",
    "    .option(\"url\", \"jdbc:postgresql://192.168.1.6:5432/postgres\") \\\n",
    "    .option(\"dbtable\", tbQuery) \\\n",
    "    .option(\"user\", \"postgres\") \\\n",
    "    .option(\"password\", \"Nintendo1\") \\\n",
    "    .option(\"driver\", \"org.postgresql.Driver\") \\\n",
    "    .load()"
   ]
  },
  {
   "cell_type": "code",
   "execution_count": null,
   "id": "925c4e57-a5d9-4fd9-8e03-e10ecedb36a6",
   "metadata": {},
   "outputs": [],
   "source": [
    "tableDB.show()"
   ]
  },
  {
   "cell_type": "code",
   "execution_count": null,
   "id": "50487c02-a377-41e4-a478-02fe0c44ea7f",
   "metadata": {},
   "outputs": [],
   "source": [
    "outputDF=tableDB.withColumn(\"year\",lit(year)).withColumn(\"month\",lit(month)).withColumn(\"day\",lit(day))"
   ]
  },
  {
   "cell_type": "code",
   "execution_count": null,
   "id": "2dcaa507-be08-4cfb-accf-569bd2a67495",
   "metadata": {},
   "outputs": [],
   "source": [
    "outputDF.show()"
   ]
  },
  {
   "cell_type": "code",
   "execution_count": null,
   "id": "be4354ba-e9ee-4cfb-b2bc-2c5ced9fb8d4",
   "metadata": {},
   "outputs": [],
   "source": [
    "cols = len(empDF.columns)\n",
    "print(f\"DataFrame Columns count : {cols}\")"
   ]
  },
  {
   "cell_type": "code",
   "execution_count": null,
   "id": "c8ee02b2-7ba3-4d82-ae60-0372e13b988a",
   "metadata": {},
   "outputs": [],
   "source": [
    "rows=outputDF.count()\n",
    "rows"
   ]
  },
  {
   "cell_type": "markdown",
   "id": "00974c1f-140f-423f-9cb1-f3938d7a5bc6",
   "metadata": {},
   "source": [
    "- Check new row"
   ]
  },
  {
   "cell_type": "code",
   "execution_count": null,
   "id": "2a383ad0-5874-4df2-a549-c9b2a1ebedf8",
   "metadata": {},
   "outputs": [],
   "source": [
    "if rows>0:\n",
    "    outputDF.write.partitionBy('year', 'month','day').mode('append').parquet(tableLocation)"
   ]
  },
  {
   "cell_type": "markdown",
   "id": "5c70fe40-3f19-4a11-b9bb-c25fa4adc3e8",
   "metadata": {},
   "source": [
    "### Create database in Hive"
   ]
  },
  {
   "cell_type": "code",
   "execution_count": null,
   "id": "e7e792ee-73ab-46cc-b84b-80701b1d4648",
   "metadata": {},
   "outputs": [],
   "source": [
    "spark.sql(\"create database if not exists order\")"
   ]
  },
  {
   "cell_type": "code",
   "execution_count": null,
   "id": "ae72c312-2023-48ca-a5d7-bdb42ecb924a",
   "metadata": {},
   "outputs": [],
   "source": [
    "spark.sql(\"CREATE TABLE IF NOT EXISTS employee ( eid int, name String,salary String, destination String)\")"
   ]
  },
  {
   "cell_type": "code",
   "execution_count": 5,
   "id": "962f33a4-0cad-469d-a44b-090916acdbf1",
   "metadata": {},
   "outputs": [
    {
     "name": "stdout",
     "output_type": "stream",
     "text": [
      "+---------+\n",
      "|namespace|\n",
      "+---------+\n",
      "|   buffvn|\n",
      "|  default|\n",
      "+---------+\n",
      "\n"
     ]
    }
   ],
   "source": [
    "spark.sql(\"show databases\").show()"
   ]
  },
  {
   "cell_type": "code",
   "execution_count": 7,
   "id": "31487107-e477-47a4-8799-c43727223497",
   "metadata": {},
   "outputs": [
    {
     "data": {
      "text/plain": [
       "DataFrame[]"
      ]
     },
     "execution_count": 7,
     "metadata": {},
     "output_type": "execute_result"
    }
   ],
   "source": [
    "spark.sql(\"use buffvn\")"
   ]
  },
  {
   "cell_type": "code",
   "execution_count": 8,
   "id": "6e821579-4d15-41b3-b14c-60e3e128ca88",
   "metadata": {},
   "outputs": [
    {
     "name": "stderr",
     "output_type": "stream",
     "text": [
      "[Stage 0:>                                                          (0 + 1) / 1]\r"
     ]
    },
    {
     "name": "stdout",
     "output_type": "stream",
     "text": [
      "+---------+-------------------+-----------+\n",
      "|namespace|          tableName|isTemporary|\n",
      "+---------+-------------------+-----------+\n",
      "|   buffvn|customer_entity_dim|      false|\n",
      "|   buffvn|          dates_dim|      false|\n",
      "|   buffvn|   order_entity_dim|      false|\n",
      "|   buffvn|         order_fact|      false|\n",
      "|   buffvn| product_entity_dim|      false|\n",
      "+---------+-------------------+-----------+\n",
      "\n"
     ]
    },
    {
     "name": "stderr",
     "output_type": "stream",
     "text": [
      "                                                                                \r"
     ]
    }
   ],
   "source": [
    "spark.sql(\"show tables\").show()"
   ]
  },
  {
   "cell_type": "code",
   "execution_count": null,
   "id": "5514f708-e7e7-4f04-accb-f9b161a3565d",
   "metadata": {},
   "outputs": [],
   "source": [
    "spark.sql(\"select * from summary_daily\").show()"
   ]
  },
  {
   "cell_type": "code",
   "execution_count": null,
   "id": "f1912438-791b-425b-87b5-8e5ee99e74f7",
   "metadata": {},
   "outputs": [],
   "source": [
    "spark.sql(\"drop database order CASCADE  \")"
   ]
  },
  {
   "cell_type": "code",
   "execution_count": 9,
   "id": "993dee35-6a18-477f-ac75-5dc50319bfa5",
   "metadata": {},
   "outputs": [
    {
     "data": {
      "text/plain": [
       "DataFrame[]"
      ]
     },
     "execution_count": 9,
     "metadata": {},
     "output_type": "execute_result"
    }
   ],
   "source": [
    "spark.sql(\"drop table order_fact \")"
   ]
  },
  {
   "cell_type": "markdown",
   "id": "127241f3-8bba-429e-874a-4290ab2de11a",
   "metadata": {},
   "source": [
    "## READ table from Hive\n",
    "\n"
   ]
  },
  {
   "cell_type": "code",
   "execution_count": 10,
   "id": "ef4adcdb-adfb-4fad-b940-17c71c29f3d2",
   "metadata": {},
   "outputs": [
    {
     "name": "stderr",
     "output_type": "stream",
     "text": [
      "                                                                                \r"
     ]
    }
   ],
   "source": [
    "order_entity=spark.read.parquet(\"hdfs://192.168.1.5:9000/user/hive/datalake/buff-vn/order_entity\").drop(\"year\",\"month\",\"day\")\n",
    "order_product_entity=spark.read.parquet(\"hdfs://192.168.1.5:9000/user/hive/datalake/buff-vn/order_product_entity\").drop(\"year\",\"month\",\"day\")\n",
    "order_entity_order_products_order_product_entity=spark.read.parquet(\"hdfs://192.168.1.5:9000/user/hive/datalake/buff-vn/order_entity_order_products_order_product_entity\").drop(\"year\",\"month\",\"day\")"
   ]
  },
  {
   "cell_type": "markdown",
   "id": "5e8c9ab3-c3a0-4f94-842c-8f1bef88e2ac",
   "metadata": {},
   "source": [
    "##  Create Fact Table"
   ]
  },
  {
   "cell_type": "markdown",
   "id": "fa94339e-842a-4b94-a922-d4dc205264e4",
   "metadata": {},
   "source": [
    " Handle the same coulunm name  `createdAt` in `order_product_entity order_entity` table"
   ]
  },
  {
   "cell_type": "markdown",
   "id": "3b62f742-866d-448c-b412-4954f53d42b3",
   "metadata": {},
   "source": [
    "- Rename createdAt column in order_product_entity table"
   ]
  },
  {
   "cell_type": "code",
   "execution_count": 11,
   "id": "4328b37d-5ba6-4ef3-9b8f-e7ceaa114f42",
   "metadata": {},
   "outputs": [],
   "source": [
    "order_product_entity=order_product_entity.withColumnRenamed(\"createdAt\",\"createdAtProduct\")\n",
    "order_product_entity=order_product_entity.withColumnRenamed(\"updatedAt\",\"updatedAtProduct\")\n",
    "order_entity=order_entity.withColumnRenamed(\"id\",\"idOrder\")\n",
    "order_entity=order_entity.withColumnRenamed(\"status\",\"statusOrder\")"
   ]
  },
  {
   "cell_type": "code",
   "execution_count": 12,
   "id": "e7e6709e-9a7d-40c8-9f54-dd26572000dc",
   "metadata": {},
   "outputs": [
    {
     "name": "stdout",
     "output_type": "stream",
     "text": [
      "root\n",
      " |-- idOrder: integer (nullable = true)\n",
      " |-- orderCode: string (nullable = true)\n",
      " |-- guestId: integer (nullable = true)\n",
      " |-- totalPrice: decimal(38,18) (nullable = true)\n",
      " |-- shippingAddress: string (nullable = true)\n",
      " |-- note: string (nullable = true)\n",
      " |-- shippingFee: integer (nullable = true)\n",
      " |-- discountCode: string (nullable = true)\n",
      " |-- discountFee: decimal(38,18) (nullable = true)\n",
      " |-- shippingMethod: string (nullable = true)\n",
      " |-- shippingProvinceId: string (nullable = true)\n",
      " |-- shippingDistrictId: string (nullable = true)\n",
      " |-- shippingWardId: string (nullable = true)\n",
      " |-- paymentMethod: string (nullable = true)\n",
      " |-- statusOrder: string (nullable = true)\n",
      " |-- createdAt: timestamp (nullable = true)\n",
      " |-- updatedAt: timestamp (nullable = true)\n",
      "\n"
     ]
    }
   ],
   "source": [
    "order_entity.printSchema()"
   ]
  },
  {
   "cell_type": "markdown",
   "id": "263337f8-f27e-465d-9221-f92c23336322",
   "metadata": {},
   "source": [
    "- Create date column interger type"
   ]
  },
  {
   "cell_type": "code",
   "execution_count": 13,
   "id": "6931dd84-7021-4291-91d9-1971f939b87a",
   "metadata": {},
   "outputs": [],
   "source": [
    "temp2=order_entity_order_products_order_product_entity.join(order_entity,order_entity_order_products_order_product_entity[\"orderEntityId\"] == order_entity[\"idOrder\"],\"inner\")\n"
   ]
  },
  {
   "cell_type": "code",
   "execution_count": 14,
   "id": "5514ebd8-0e72-4aa4-8cea-c03494d57a75",
   "metadata": {},
   "outputs": [],
   "source": [
    "temp3=temp2.join(order_product_entity,temp2[\"orderProductEntityId\"] == order_product_entity[\"id\"],\"inner\")\n"
   ]
  },
  {
   "cell_type": "code",
   "execution_count": 15,
   "id": "ef14bb63-cd86-47e9-8621-e17d2889230e",
   "metadata": {},
   "outputs": [],
   "source": [
    "newdf = temp3.withColumn(\"orderDateKey\",(year(temp3[\"createdAt\"])*10000)+(month(temp3[\"createdAt\"])*100)+(dayofmonth(temp3[\"createdAt\"])))\n"
   ]
  },
  {
   "cell_type": "code",
   "execution_count": 19,
   "id": "c732cf55-6bfa-4a6c-b9c8-8bd2568ed663",
   "metadata": {},
   "outputs": [],
   "source": [
    "groupList=[\"orderDateKey\",\"orderEntityId\",\"guestId\",\"orderProductEntityId\",\"quantity\",\"currentPrice\",\"productId\",\"totalPrice\"]"
   ]
  },
  {
   "cell_type": "code",
   "execution_count": 20,
   "id": "12815559-ea92-4477-83a6-af5cf91a47ba",
   "metadata": {},
   "outputs": [],
   "source": [
    "# outputDF=newdf.groupBy(groupList).agg(sum(\"currentPrice\").alias(\"currentPrice\"),sum( \"quantity\").alias(\"sumQuantity\"))\n"
   ]
  },
  {
   "cell_type": "code",
   "execution_count": 21,
   "id": "7a79f266-9172-48a9-8124-870227ee8c3c",
   "metadata": {},
   "outputs": [],
   "source": [
    "outputDF=newdf.select(groupList)"
   ]
  },
  {
   "cell_type": "markdown",
   "id": "1256e95f-2c73-4879-bd93-93b5c7c5bd82",
   "metadata": {},
   "source": [
    "- Set date execution"
   ]
  },
  {
   "cell_type": "code",
   "execution_count": 22,
   "id": "84c9fa30-9e31-4d4d-af05-1dca71e91aca",
   "metadata": {},
   "outputs": [],
   "source": [
    "year=\"2024\"\n",
    "month=\"02\"\n",
    "day=\"20\""
   ]
  },
  {
   "cell_type": "code",
   "execution_count": 23,
   "id": "a7f3a0d5-eeae-453c-b8f9-73e505936c95",
   "metadata": {},
   "outputs": [],
   "source": [
    "outputDF=outputDF.withColumn(\"year\",lit(year)).withColumn(\"month\",lit(month)).withColumn(\"day\",lit(day))"
   ]
  },
  {
   "cell_type": "code",
   "execution_count": 24,
   "id": "ad57045a-43fa-4176-a4ea-71ef29af351a",
   "metadata": {},
   "outputs": [
    {
     "name": "stdout",
     "output_type": "stream",
     "text": [
      "+------------+-------------+-------+--------------------+--------+--------------------+---------+--------------------+----+-----+---+\n",
      "|orderDateKey|orderEntityId|guestId|orderProductEntityId|quantity|        currentPrice|productId|          totalPrice|year|month|day|\n",
      "+------------+-------------+-------+--------------------+--------+--------------------+---------+--------------------+----+-----+---+\n",
      "|    20220829|           41|      3|                  54|       4|10000.00000000000...|        9|184100.0000000000...|2024|   02| 20|\n",
      "|    20220829|           42|      3|                  55|       4|10000.00000000000...|        9|184100.0000000000...|2024|   02| 20|\n",
      "+------------+-------------+-------+--------------------+--------+--------------------+---------+--------------------+----+-----+---+\n",
      "only showing top 2 rows\n",
      "\n"
     ]
    }
   ],
   "source": [
    "outputDF.show(2)"
   ]
  },
  {
   "cell_type": "markdown",
   "id": "cb7db490-1efd-47d2-938c-996da2aacd6b",
   "metadata": {
    "jp-MarkdownHeadingCollapsed": true
   },
   "source": [
    "- Write fact table to DW"
   ]
  },
  {
   "cell_type": "code",
   "execution_count": 25,
   "id": "cb6566ef-4ce3-477c-ae00-99cead0084ec",
   "metadata": {},
   "outputs": [
    {
     "name": "stderr",
     "output_type": "stream",
     "text": [
      "24/02/20 16:39:32 WARN package: Truncated the string representation of a plan since it was too large. This behavior can be adjusted by setting 'spark.sql.debug.maxToStringFields'.\n",
      "                                                                                \r"
     ]
    }
   ],
   "source": [
    "outputDF.write.partitionBy('year', 'month','day').mode('append').saveAsTable(\"buffvn.order_fact\")"
   ]
  },
  {
   "cell_type": "markdown",
   "id": "798631ee-442d-477c-b3a8-eff10995d85d",
   "metadata": {},
   "source": [
    "### Create  Order dimention table\n"
   ]
  },
  {
   "cell_type": "code",
   "execution_count": 19,
   "id": "2082b044-d73f-44fe-9cf9-003d4bc1d387",
   "metadata": {},
   "outputs": [],
   "source": [
    "order_entity_dim=order_entity.withColumn(\"year\",lit(year)).withColumn(\"month\",lit(month)).withColumn(\"day\",lit(day))"
   ]
  },
  {
   "cell_type": "code",
   "execution_count": 20,
   "id": "c7f24813-6755-4aaa-82dd-5ab8b9ba5857",
   "metadata": {},
   "outputs": [
    {
     "name": "stderr",
     "output_type": "stream",
     "text": [
      "                                                                                \r"
     ]
    }
   ],
   "source": [
    "order_entity_dim.write.partitionBy('year', 'month','day').mode('append').saveAsTable(\"buffvn.order_entity_dim\")"
   ]
  },
  {
   "cell_type": "markdown",
   "id": "3ebf8f36-6380-495b-b0d9-36dff7cbca57",
   "metadata": {},
   "source": [
    "### Create Customer dimention\n"
   ]
  },
  {
   "cell_type": "code",
   "execution_count": 21,
   "id": "025908ab-dd31-4de5-acf5-23bc01d3001f",
   "metadata": {},
   "outputs": [],
   "source": [
    "customer_entity=spark.read.parquet(\"hdfs://192.168.1.5:9000/user/hive/datalake/buff-vn/customer_entity\").drop(\"year\",\"month\",\"day\")"
   ]
  },
  {
   "cell_type": "code",
   "execution_count": 22,
   "id": "4ad8967b-15e0-4f0f-8d08-4121c5ae9e6b",
   "metadata": {},
   "outputs": [],
   "source": [
    "customer_entity_dim=customer_entity.withColumn(\"year\",lit(year)).withColumn(\"month\",lit(month)).withColumn(\"day\",lit(day))"
   ]
  },
  {
   "cell_type": "code",
   "execution_count": 23,
   "id": "79f62171-8a5b-422d-907e-f33333ded643",
   "metadata": {},
   "outputs": [],
   "source": [
    "customer_entity_dim.write.partitionBy('year', 'month','day').mode('append').saveAsTable(\"buffvn.customer_entity_dim\")"
   ]
  },
  {
   "cell_type": "markdown",
   "id": "018c48ed-5a3f-4d6c-b7fd-fda0f31b6509",
   "metadata": {},
   "source": [
    "### Create Pruduction dimention\n"
   ]
  },
  {
   "cell_type": "code",
   "execution_count": 24,
   "id": "3b0c37e4-6f33-4dee-9db6-0f2e086e8599",
   "metadata": {},
   "outputs": [],
   "source": [
    "product_entity=spark.read.parquet(\"hdfs://192.168.1.5:9000/user/hive/datalake/buff-vn/product_entity\").drop(\"year\",\"month\",\"day\")"
   ]
  },
  {
   "cell_type": "code",
   "execution_count": 25,
   "id": "a7c6c2a2-8a81-4fc8-905f-13665b48a420",
   "metadata": {},
   "outputs": [],
   "source": [
    "product_entity_dim=product_entity.withColumn(\"year\",lit(year)).withColumn(\"month\",lit(month)).withColumn(\"day\",lit(day))"
   ]
  },
  {
   "cell_type": "code",
   "execution_count": 26,
   "id": "9f0c7fe7-79b4-4f25-8115-3151a6ce3a9e",
   "metadata": {},
   "outputs": [
    {
     "name": "stderr",
     "output_type": "stream",
     "text": [
      "                                                                                \r"
     ]
    }
   ],
   "source": [
    "product_entity_dim.write.partitionBy('year', 'month','day').mode('append').saveAsTable(\"buffvn.product_entity_dim\")"
   ]
  },
  {
   "cell_type": "code",
   "execution_count": null,
   "id": "09e088bb-768d-4554-b444-d2ace6ba210f",
   "metadata": {},
   "outputs": [],
   "source": []
  },
  {
   "cell_type": "markdown",
   "id": "44cea9f3-51db-4e86-8835-f369277ad1cc",
   "metadata": {},
   "source": [
    "### Create Date Dimention"
   ]
  },
  {
   "cell_type": "code",
   "execution_count": 27,
   "id": "74dd66fb-9f63-45aa-bd6e-d39853e9cbf1",
   "metadata": {},
   "outputs": [],
   "source": [
    "beginDate = '2022-01-01'\n",
    "endDate = '2024-12-31'"
   ]
  },
  {
   "cell_type": "code",
   "execution_count": 28,
   "id": "87abf89c-c960-4881-8146-c5f290cff3b4",
   "metadata": {},
   "outputs": [],
   "source": [
    "spark.sql(f\"select explode(sequence(to_date('{beginDate}'), to_date('{endDate}'), interval 1 day)) as calendarDate\").createOrReplaceTempView('dates')"
   ]
  },
  {
   "cell_type": "code",
   "execution_count": 29,
   "id": "47d70ac3-b94d-4c10-81ea-21468a46cd3e",
   "metadata": {},
   "outputs": [],
   "source": [
    "spark.sql(\"\"\"select\n",
    "  year(calendarDate) * 10000 + month(calendarDate) * 100 + day(calendarDate) as dateInt,\n",
    "  CalendarDate,\n",
    "  year(calendarDate) AS CalendarYear,\n",
    "  date_format(calendarDate, 'MMMM') as CalendarMonth,\n",
    "  month(calendarDate) as MonthOfYear,\n",
    "  date_format(calendarDate, 'EEEE') as CalendarDay,\n",
    "  dayofweek(calendarDate) AS DayOfWeek,\n",
    "  weekday(calendarDate) + 1 as DayOfWeekStartMonday,\n",
    "  case\n",
    "    when weekday(calendarDate) < 5 then 'Y' else 'N' end as IsWeekDay, dayofmonth(calendarDate) as DayOfMonth, case when calendarDate = last_day(calendarDate) then 'Y' else 'N' end as IsLastDayOfMonth, dayofyear(calendarDate) as DayOfYear, weekofyear(calendarDate) as WeekOfYearIso, quarter(calendarDate) as QuarterOfYear, /* Use fiscal periods needed by organization fiscal calendar */ case when month(calendarDate) >= 10 then year(calendarDate) + 1\n",
    "    else year(calendarDate)\n",
    "  end as FiscalYearOctToSep,\n",
    "  (month(calendarDate) + 2) % 12 + 1 AS FiscalMonthOctToSep,\n",
    "  case\n",
    "    when month(calendarDate) >= 7 then year(calendarDate) + 1\n",
    "    else year(calendarDate)\n",
    "  end as FiscalYearJulToJun,\n",
    "  (month(calendarDate) + 5) % 12 + 1 AS FiscalMonthJulToJun\n",
    "from\n",
    "  dates\n",
    "order by\n",
    "  calendarDate \"\"\").createOrReplaceTempView('dates')"
   ]
  },
  {
   "cell_type": "code",
   "execution_count": 31,
   "id": "677c28d4-78d2-4603-a9ba-01220fad8aeb",
   "metadata": {},
   "outputs": [],
   "source": [
    "dates_dim = spark.sql(\"SELECT * FROM dates\")\n"
   ]
  },
  {
   "cell_type": "markdown",
   "id": "3eeddc20-23a8-4a1e-858e-ced457efbe1d",
   "metadata": {},
   "source": [
    "- Write Date Dimention table to DW"
   ]
  },
  {
   "cell_type": "code",
   "execution_count": 33,
   "id": "8b7fb3c1-ee13-4a53-b3c0-e178de6a5f74",
   "metadata": {},
   "outputs": [],
   "source": [
    "dates_dim.write.mode('overwrite').saveAsTable(\"buffvn.dates_dim\")"
   ]
  },
  {
   "cell_type": "code",
   "execution_count": null,
   "id": "41ba1799-2a21-4429-b681-27cb369f863f",
   "metadata": {},
   "outputs": [],
   "source": []
  }
 ],
 "metadata": {
  "kernelspec": {
   "display_name": "Python 3 (ipykernel)",
   "language": "python",
   "name": "python3"
  },
  "language_info": {
   "codemirror_mode": {
    "name": "ipython",
    "version": 3
   },
   "file_extension": ".py",
   "mimetype": "text/x-python",
   "name": "python",
   "nbconvert_exporter": "python",
   "pygments_lexer": "ipython3",
   "version": "3.11.7"
  }
 },
 "nbformat": 4,
 "nbformat_minor": 5
}
